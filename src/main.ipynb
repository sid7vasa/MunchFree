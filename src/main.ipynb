{
 "cells": [
  {
   "cell_type": "code",
   "execution_count": 1,
   "outputs": [
    {
     "name": "stderr",
     "output_type": "stream",
     "text": [
      "C:\\Users\\santo\\anaconda3\\envs\\MunchFree\\lib\\site-packages\\scipy\\__init__.py:146: UserWarning: A NumPy version >=1.16.5 and <1.23.0 is required for this version of SciPy (detected version 1.23.1\n",
      "  warnings.warn(f\"A NumPy version >={np_minversion} and <{np_maxversion}\"\n"
     ]
    }
   ],
   "source": [
    "import pandas as pd\n",
    "import numpy as np\n",
    "import tensorflow as tf\n",
    "from tensorflow.keras.models import load_model\n",
    "from User import User\n",
    "from imutils import paths"
   ],
   "metadata": {
    "collapsed": false,
    "pycharm": {
     "name": "#%%\n"
    }
   }
  },
  {
   "cell_type": "code",
   "execution_count": null,
   "outputs": [],
   "source": [
    "model = load_model(\"../models/img_clf.h5\")"
   ],
   "metadata": {
    "collapsed": false,
    "pycharm": {
     "name": "#%%\n",
     "is_executing": true
    }
   }
  },
  {
   "cell_type": "code",
   "execution_count": 2,
   "outputs": [
    {
     "data": {
      "text/plain": "  username  protein_val  fat_val  carbs_val  sugar_val  caffeine_val  \\\n0  Sanjana            0        0          0          0             0   \n1      SID            0        0          0          0             0   \n2  Santosh            0        0          0          0             0   \n\n   calcium_val  iron_val  sodium_val  cholesterol_val  calories_val  fibre_val  \n0            0         0           0                0             0          0  \n1            0         0           0                0             0          0  \n2            0         0           0                0             0          0  ",
      "text/html": "<div>\n<style scoped>\n    .dataframe tbody tr th:only-of-type {\n        vertical-align: middle;\n    }\n\n    .dataframe tbody tr th {\n        vertical-align: top;\n    }\n\n    .dataframe thead th {\n        text-align: right;\n    }\n</style>\n<table border=\"1\" class=\"dataframe\">\n  <thead>\n    <tr style=\"text-align: right;\">\n      <th></th>\n      <th>username</th>\n      <th>protein_val</th>\n      <th>fat_val</th>\n      <th>carbs_val</th>\n      <th>sugar_val</th>\n      <th>caffeine_val</th>\n      <th>calcium_val</th>\n      <th>iron_val</th>\n      <th>sodium_val</th>\n      <th>cholesterol_val</th>\n      <th>calories_val</th>\n      <th>fibre_val</th>\n    </tr>\n  </thead>\n  <tbody>\n    <tr>\n      <th>0</th>\n      <td>Sanjana</td>\n      <td>0</td>\n      <td>0</td>\n      <td>0</td>\n      <td>0</td>\n      <td>0</td>\n      <td>0</td>\n      <td>0</td>\n      <td>0</td>\n      <td>0</td>\n      <td>0</td>\n      <td>0</td>\n    </tr>\n    <tr>\n      <th>1</th>\n      <td>SID</td>\n      <td>0</td>\n      <td>0</td>\n      <td>0</td>\n      <td>0</td>\n      <td>0</td>\n      <td>0</td>\n      <td>0</td>\n      <td>0</td>\n      <td>0</td>\n      <td>0</td>\n      <td>0</td>\n    </tr>\n    <tr>\n      <th>2</th>\n      <td>Santosh</td>\n      <td>0</td>\n      <td>0</td>\n      <td>0</td>\n      <td>0</td>\n      <td>0</td>\n      <td>0</td>\n      <td>0</td>\n      <td>0</td>\n      <td>0</td>\n      <td>0</td>\n      <td>0</td>\n    </tr>\n  </tbody>\n</table>\n</div>"
     },
     "execution_count": 2,
     "metadata": {},
     "output_type": "execute_result"
    }
   ],
   "source": [
    "# Load csv file to df\n",
    "df = pd.read_csv(\"../data/users.csv\")\n",
    "df.head()"
   ],
   "metadata": {
    "collapsed": false,
    "pycharm": {
     "name": "#%%\n"
    }
   }
  },
  {
   "cell_type": "code",
   "execution_count": 3,
   "outputs": [
    {
     "name": "stdout",
     "output_type": "stream",
     "text": [
      "SID\n"
     ]
    }
   ],
   "source": [
    "username = input(\"Enter Username to login\")\n",
    "print(username)"
   ],
   "metadata": {
    "collapsed": false,
    "pycharm": {
     "name": "#%%\n"
    }
   }
  },
  {
   "cell_type": "code",
   "execution_count": 4,
   "outputs": [],
   "source": [
    "user = User(username)"
   ],
   "metadata": {
    "collapsed": false,
    "pycharm": {
     "name": "#%%\n"
    }
   }
  },
  {
   "cell_type": "code",
   "execution_count": 5,
   "outputs": [
    {
     "data": {
      "text/plain": "<User.User at 0x214976d8cd0>"
     },
     "execution_count": 5,
     "metadata": {},
     "output_type": "execute_result"
    }
   ],
   "source": [
    "user"
   ],
   "metadata": {
    "collapsed": false,
    "pycharm": {
     "name": "#%%\n"
    }
   }
  },
  {
   "cell_type": "code",
   "execution_count": 6,
   "outputs": [
    {
     "data": {
      "text/plain": "{'protein_val': 1    0\n Name: protein_val, dtype: int64,\n 'fat_val': 1    0\n Name: fat_val, dtype: int64,\n 'carbs_val': 1    0\n Name: carbs_val, dtype: int64,\n 'calories_val': 1    0\n Name: calories_val, dtype: int64,\n 'sugar_val': 1    0\n Name: sugar_val, dtype: int64,\n 'caffeine_val': 1    0\n Name: caffeine_val, dtype: int64,\n 'fibre_val': 1    0\n Name: fibre_val, dtype: int64,\n 'calcium_val': 1    0\n Name: calcium_val, dtype: int64,\n 'iron_val': 1    0\n Name: iron_val, dtype: int64,\n 'sodium_val': 1    0\n Name: sodium_val, dtype: int64,\n 'cholesterol_val': 1    0\n Name: cholesterol_val, dtype: int64}"
     },
     "execution_count": 6,
     "metadata": {},
     "output_type": "execute_result"
    }
   ],
   "source": [
    "user.foodHistory"
   ],
   "metadata": {
    "collapsed": false,
    "pycharm": {
     "name": "#%%\n"
    }
   }
  },
  {
   "cell_type": "code",
   "execution_count": 7,
   "outputs": [],
   "source": [
    "def inputCall():\n",
    "    print(\"****************\\n Weekly Report \\n****************\\n \"\n",
    "            \"Protein : \", user.foodHistory[\"protein_val\"],\n",
    "            \"\\n Fat :\", user.foodHistory[\"fat_val\"],\n",
    "            \"\\n Carbs : \", user.foodHistory[\"carbs_val\"],\n",
    "            \"\\n Calories : \", user.foodHistory[\"calories_val\"],\n",
    "            \"\\n Sugar : \", user.foodHistory[\"sugar_val\"],\n",
    "            \"\\n Caffiene : \",user.foodHistory[\"caffeine_val\"],\n",
    "            \"\\n Fiber : \",user.foodHistory[\"fibre_val\"],\n",
    "            \"\\n Calcium : \",user.foodHistory[\"calcium_val\"],\n",
    "            \"\\n Iron : \",user.foodHistory[\"iron_val\"],\n",
    "            \"\\n Sodium : \",user.foodHistory[\"sodium_val\"],\n",
    "            \"\\n Cholesterol : \",user.foodHistory[\"cholesterol_val\"])\n",
    "    return input(\n",
    "            \"\\n ************************ \\n Log Your Meal For Today USing Following Input Methods \\n 1. Image\\n 2. Voice\\n 3. Text \\n 4. Recommend via Text \\n 5. Recommend via Voice \\n 6. Exit\\n ************************\")"
   ],
   "metadata": {
    "collapsed": false,
    "pycharm": {
     "name": "#%%\n"
    }
   }
  },
  {
   "cell_type": "code",
   "execution_count": 8,
   "outputs": [],
   "source": [
    "def exitLoop():\n",
    "    print(\"*** Bye***\")"
   ],
   "metadata": {
    "collapsed": false,
    "pycharm": {
     "name": "#%%\n"
    }
   }
  },
  {
   "cell_type": "code",
   "execution_count": 9,
   "outputs": [],
   "source": [
    "def img():\n",
    "    image_paths = list(paths.list_images(\"../data/testImg/\"))\n",
    "    model = load_model(\"../models/img_clf.h5\")\n",
    "    print(model.summary())\n",
    "def voice():\n",
    "    pass\n",
    "def text():\n",
    "    pass\n"
   ],
   "metadata": {
    "collapsed": false,
    "pycharm": {
     "name": "#%%\n"
    }
   }
  },
  {
   "cell_type": "code",
   "execution_count": null,
   "outputs": [],
   "source": [
    "load_model('../models/img_clf.h5')"
   ],
   "metadata": {
    "collapsed": false,
    "pycharm": {
     "name": "#%%\n",
     "is_executing": true
    }
   }
  },
  {
   "cell_type": "code",
   "execution_count": null,
   "outputs": [],
   "source": [
    "img()"
   ],
   "metadata": {
    "collapsed": false,
    "pycharm": {
     "name": "#%%\n",
     "is_executing": true
    }
   }
  },
  {
   "cell_type": "code",
   "execution_count": 21,
   "outputs": [
    {
     "name": "stdout",
     "output_type": "stream",
     "text": [
      "****************\n",
      " Weekly Report \n",
      "****************\n",
      " Protein :  1    0\n",
      "Name: protein_val, dtype: int64 \n",
      " Fat : 1    0\n",
      "Name: fat_val, dtype: int64 \n",
      " Carbs :  1    0\n",
      "Name: carbs_val, dtype: int64 \n",
      " Calories :  1    0\n",
      "Name: calories_val, dtype: int64 \n",
      " Sugar :  1    0\n",
      "Name: sugar_val, dtype: int64 \n",
      " Caffiene :  1    0\n",
      "Name: caffeine_val, dtype: int64 \n",
      " Fiber :  1    0\n",
      "Name: fibre_val, dtype: int64 \n",
      " Calcium :  1    0\n",
      "Name: calcium_val, dtype: int64 \n",
      " Iron :  1    0\n",
      "Name: iron_val, dtype: int64 \n",
      " Sodium :  1    0\n",
      "Name: sodium_val, dtype: int64 \n",
      " Cholesterol :  1    0\n",
      "Name: cholesterol_val, dtype: int64\n",
      "****************\n",
      " Weekly Report \n",
      "****************\n",
      " Protein :  1    0\n",
      "Name: protein_val, dtype: int64 \n",
      " Fat : 1    0\n",
      "Name: fat_val, dtype: int64 \n",
      " Carbs :  1    0\n",
      "Name: carbs_val, dtype: int64 \n",
      " Calories :  1    0\n",
      "Name: calories_val, dtype: int64 \n",
      " Sugar :  1    0\n",
      "Name: sugar_val, dtype: int64 \n",
      " Caffiene :  1    0\n",
      "Name: caffeine_val, dtype: int64 \n",
      " Fiber :  1    0\n",
      "Name: fibre_val, dtype: int64 \n",
      " Calcium :  1    0\n",
      "Name: calcium_val, dtype: int64 \n",
      " Iron :  1    0\n",
      "Name: iron_val, dtype: int64 \n",
      " Sodium :  1    0\n",
      "Name: sodium_val, dtype: int64 \n",
      " Cholesterol :  1    0\n",
      "Name: cholesterol_val, dtype: int64\n"
     ]
    }
   ],
   "source": [
    "x = inputCall()\n",
    "if x == 1:\n",
    "    img()\n",
    "elif x == 2:\n",
    "    voice()\n",
    "elif x == 3:\n",
    "    text()\n",
    "elif x == 4:\n",
    "    recommendText()\n",
    "elif x == 5:\n",
    "    recommendVoice()\n",
    "elif x==6:\n",
    "    exitLoop()\n",
    "else:\n",
    "    inputCall()"
   ],
   "metadata": {
    "collapsed": false,
    "pycharm": {
     "name": "#%%\n"
    }
   }
  },
  {
   "cell_type": "code",
   "execution_count": null,
   "outputs": [],
   "source": [],
   "metadata": {
    "collapsed": false,
    "pycharm": {
     "name": "#%%\n"
    }
   }
  },
  {
   "cell_type": "code",
   "execution_count": null,
   "outputs": [],
   "source": [],
   "metadata": {
    "collapsed": false,
    "pycharm": {
     "name": "#%%\n"
    }
   }
  }
 ],
 "metadata": {
  "kernelspec": {
   "display_name": "Python 3",
   "language": "python",
   "name": "python3"
  },
  "language_info": {
   "codemirror_mode": {
    "name": "ipython",
    "version": 2
   },
   "file_extension": ".py",
   "mimetype": "text/x-python",
   "name": "python",
   "nbconvert_exporter": "python",
   "pygments_lexer": "ipython2",
   "version": "2.7.6"
  }
 },
 "nbformat": 4,
 "nbformat_minor": 0
}