{
 "cells": [
  {
   "cell_type": "code",
   "execution_count": 1,
   "metadata": {
    "collapsed": true,
    "pycharm": {
     "name": "#%%\n"
    }
   },
   "outputs": [
    {
     "name": "stderr",
     "output_type": "stream",
     "text": [
      "C:\\Users\\santo\\anaconda3\\envs\\MunchFree\\lib\\site-packages\\scipy\\__init__.py:146: UserWarning: A NumPy version >=1.16.5 and <1.23.0 is required for this version of SciPy (detected version 1.23.1\n",
      "  warnings.warn(f\"A NumPy version >={np_minversion} and <{np_maxversion}\"\n"
     ]
    }
   ],
   "source": [
    "import numpy as np\n",
    "import pandas as pd\n",
    "import tensorflow as tf\n",
    "import User"
   ]
  },
  {
   "cell_type": "code",
   "execution_count": 2,
   "outputs": [
    {
     "data": {
      "text/plain": "   Unnamed: 0  food_name                                 category  \\\n0           0       coke                                     Soda   \n1           1       coke                                     Soda   \n2           2       coke                                     Soda   \n3           3  diet coke                                     Soda   \n4           4  diet coke  Non Alcoholic Beverages  Ready to Drink   \n\n                              description package_weight_unit  \\\n0                     original taste coke     48 FL OZ/1.42 L   \n1             coke with lime flavor, lime                 NaN   \n2             coke with lime flavor, lime                 NaN   \n3  diet coke, diet soft drink, cola, cola    8.5 fl oz/251 mL   \n4           diet coke bottle, 1.25 liters                 NaN   \n\n   serving_size_full serving_size_unit  protein_val protein_unit_name  \\\n0              237.0                ml          0.0                 G   \n1              240.0                ml          0.0                 G   \n2              355.0                ml          0.0                 G   \n3              251.0                ml          0.0                 G   \n4              360.0                ml          0.0                 G   \n\n   protein_percent_daily  ...  niacin_percent_daily folic acid_val  \\\n0                      0  ...                     0              0   \n1                      0  ...                     0              0   \n2                      0  ...                     0              0   \n3                      0  ...                     0              0   \n4                      0  ...                     0              0   \n\n   folic acid_unit_name  folic acid_percent_daily folate total_val  \\\n0                   NaN                         0                0   \n1                   NaN                         0                0   \n2                   NaN                         0                0   \n3                   NaN                         0                0   \n4                   NaN                         0                0   \n\n   folate total_unit_name  folate total_percent_daily folate food_val  \\\n0                     NaN                           0               0   \n1                     NaN                           0               0   \n2                     NaN                           0               0   \n3                     NaN                           0               0   \n4                     NaN                           0               0   \n\n   folate food_unit_name  folate food_percent_daily  \n0                    NaN                          0  \n1                    NaN                          0  \n2                    NaN                          0  \n3                    NaN                          0  \n4                    NaN                          0  \n\n[5 rows x 133 columns]",
      "text/html": "<div>\n<style scoped>\n    .dataframe tbody tr th:only-of-type {\n        vertical-align: middle;\n    }\n\n    .dataframe tbody tr th {\n        vertical-align: top;\n    }\n\n    .dataframe thead th {\n        text-align: right;\n    }\n</style>\n<table border=\"1\" class=\"dataframe\">\n  <thead>\n    <tr style=\"text-align: right;\">\n      <th></th>\n      <th>Unnamed: 0</th>\n      <th>food_name</th>\n      <th>category</th>\n      <th>description</th>\n      <th>package_weight_unit</th>\n      <th>serving_size_full</th>\n      <th>serving_size_unit</th>\n      <th>protein_val</th>\n      <th>protein_unit_name</th>\n      <th>protein_percent_daily</th>\n      <th>...</th>\n      <th>niacin_percent_daily</th>\n      <th>folic acid_val</th>\n      <th>folic acid_unit_name</th>\n      <th>folic acid_percent_daily</th>\n      <th>folate total_val</th>\n      <th>folate total_unit_name</th>\n      <th>folate total_percent_daily</th>\n      <th>folate food_val</th>\n      <th>folate food_unit_name</th>\n      <th>folate food_percent_daily</th>\n    </tr>\n  </thead>\n  <tbody>\n    <tr>\n      <th>0</th>\n      <td>0</td>\n      <td>coke</td>\n      <td>Soda</td>\n      <td>original taste coke</td>\n      <td>48 FL OZ/1.42 L</td>\n      <td>237.0</td>\n      <td>ml</td>\n      <td>0.0</td>\n      <td>G</td>\n      <td>0</td>\n      <td>...</td>\n      <td>0</td>\n      <td>0</td>\n      <td>NaN</td>\n      <td>0</td>\n      <td>0</td>\n      <td>NaN</td>\n      <td>0</td>\n      <td>0</td>\n      <td>NaN</td>\n      <td>0</td>\n    </tr>\n    <tr>\n      <th>1</th>\n      <td>1</td>\n      <td>coke</td>\n      <td>Soda</td>\n      <td>coke with lime flavor, lime</td>\n      <td>NaN</td>\n      <td>240.0</td>\n      <td>ml</td>\n      <td>0.0</td>\n      <td>G</td>\n      <td>0</td>\n      <td>...</td>\n      <td>0</td>\n      <td>0</td>\n      <td>NaN</td>\n      <td>0</td>\n      <td>0</td>\n      <td>NaN</td>\n      <td>0</td>\n      <td>0</td>\n      <td>NaN</td>\n      <td>0</td>\n    </tr>\n    <tr>\n      <th>2</th>\n      <td>2</td>\n      <td>coke</td>\n      <td>Soda</td>\n      <td>coke with lime flavor, lime</td>\n      <td>NaN</td>\n      <td>355.0</td>\n      <td>ml</td>\n      <td>0.0</td>\n      <td>G</td>\n      <td>0</td>\n      <td>...</td>\n      <td>0</td>\n      <td>0</td>\n      <td>NaN</td>\n      <td>0</td>\n      <td>0</td>\n      <td>NaN</td>\n      <td>0</td>\n      <td>0</td>\n      <td>NaN</td>\n      <td>0</td>\n    </tr>\n    <tr>\n      <th>3</th>\n      <td>3</td>\n      <td>diet coke</td>\n      <td>Soda</td>\n      <td>diet coke, diet soft drink, cola, cola</td>\n      <td>8.5 fl oz/251 mL</td>\n      <td>251.0</td>\n      <td>ml</td>\n      <td>0.0</td>\n      <td>G</td>\n      <td>0</td>\n      <td>...</td>\n      <td>0</td>\n      <td>0</td>\n      <td>NaN</td>\n      <td>0</td>\n      <td>0</td>\n      <td>NaN</td>\n      <td>0</td>\n      <td>0</td>\n      <td>NaN</td>\n      <td>0</td>\n    </tr>\n    <tr>\n      <th>4</th>\n      <td>4</td>\n      <td>diet coke</td>\n      <td>Non Alcoholic Beverages  Ready to Drink</td>\n      <td>diet coke bottle, 1.25 liters</td>\n      <td>NaN</td>\n      <td>360.0</td>\n      <td>ml</td>\n      <td>0.0</td>\n      <td>G</td>\n      <td>0</td>\n      <td>...</td>\n      <td>0</td>\n      <td>0</td>\n      <td>NaN</td>\n      <td>0</td>\n      <td>0</td>\n      <td>NaN</td>\n      <td>0</td>\n      <td>0</td>\n      <td>NaN</td>\n      <td>0</td>\n    </tr>\n  </tbody>\n</table>\n<p>5 rows × 133 columns</p>\n</div>"
     },
     "execution_count": 2,
     "metadata": {},
     "output_type": "execute_result"
    }
   ],
   "source": [
    "df = pd.read_excel('../data/raw_data.xlsx')\n",
    "df.head()"
   ],
   "metadata": {
    "collapsed": false,
    "pycharm": {
     "name": "#%%\n"
    }
   }
  },
  {
   "cell_type": "code",
   "execution_count": 3,
   "outputs": [
    {
     "data": {
      "text/plain": "   food_name  protein_val  fat_val  carbs_val  sugar_val  caffeine_val  \\\n0       coke          0.0      0.0       11.0       11.0             0   \n1       coke          0.0      0.0       11.2       10.8             0   \n2       coke          0.0      0.0       11.0       11.0             0   \n3  diet coke          0.0      0.0        0.0        0.0             0   \n4  diet coke          0.0      0.0        0.0        0.0            13   \n\n   calcium_val  iron_val  sodium_val  cholesterol_val  \n0            0       0.0          13                0  \n1            0       0.0          10                0  \n2            0       0.0          10                0  \n3            0       0.0          12                0  \n4            0       0.0          11                0  ",
      "text/html": "<div>\n<style scoped>\n    .dataframe tbody tr th:only-of-type {\n        vertical-align: middle;\n    }\n\n    .dataframe tbody tr th {\n        vertical-align: top;\n    }\n\n    .dataframe thead th {\n        text-align: right;\n    }\n</style>\n<table border=\"1\" class=\"dataframe\">\n  <thead>\n    <tr style=\"text-align: right;\">\n      <th></th>\n      <th>food_name</th>\n      <th>protein_val</th>\n      <th>fat_val</th>\n      <th>carbs_val</th>\n      <th>sugar_val</th>\n      <th>caffeine_val</th>\n      <th>calcium_val</th>\n      <th>iron_val</th>\n      <th>sodium_val</th>\n      <th>cholesterol_val</th>\n    </tr>\n  </thead>\n  <tbody>\n    <tr>\n      <th>0</th>\n      <td>coke</td>\n      <td>0.0</td>\n      <td>0.0</td>\n      <td>11.0</td>\n      <td>11.0</td>\n      <td>0</td>\n      <td>0</td>\n      <td>0.0</td>\n      <td>13</td>\n      <td>0</td>\n    </tr>\n    <tr>\n      <th>1</th>\n      <td>coke</td>\n      <td>0.0</td>\n      <td>0.0</td>\n      <td>11.2</td>\n      <td>10.8</td>\n      <td>0</td>\n      <td>0</td>\n      <td>0.0</td>\n      <td>10</td>\n      <td>0</td>\n    </tr>\n    <tr>\n      <th>2</th>\n      <td>coke</td>\n      <td>0.0</td>\n      <td>0.0</td>\n      <td>11.0</td>\n      <td>11.0</td>\n      <td>0</td>\n      <td>0</td>\n      <td>0.0</td>\n      <td>10</td>\n      <td>0</td>\n    </tr>\n    <tr>\n      <th>3</th>\n      <td>diet coke</td>\n      <td>0.0</td>\n      <td>0.0</td>\n      <td>0.0</td>\n      <td>0.0</td>\n      <td>0</td>\n      <td>0</td>\n      <td>0.0</td>\n      <td>12</td>\n      <td>0</td>\n    </tr>\n    <tr>\n      <th>4</th>\n      <td>diet coke</td>\n      <td>0.0</td>\n      <td>0.0</td>\n      <td>0.0</td>\n      <td>0.0</td>\n      <td>13</td>\n      <td>0</td>\n      <td>0.0</td>\n      <td>11</td>\n      <td>0</td>\n    </tr>\n  </tbody>\n</table>\n</div>"
     },
     "execution_count": 3,
     "metadata": {},
     "output_type": "execute_result"
    }
   ],
   "source": [
    "df = df[['food_name','protein_val','fat_val', 'carbs_val', 'sugar_val', 'caffeine_val', 'calcium_val', 'iron_val', 'sodium_val', 'cholesterol_val']]\n",
    "df.head()"
   ],
   "metadata": {
    "collapsed": false,
    "pycharm": {
     "name": "#%%\n"
    }
   }
  },
  {
   "cell_type": "code",
   "execution_count": 4,
   "outputs": [
    {
     "data": {
      "text/plain": "     food_name  protein_val  fat_val  carbs_val  sugar_val  caffeine_val  \\\n0         coke         0.00      0.0      11.00      11.00             0   \n3    diet coke         0.00      0.0       0.00       0.00             0   \n6        fanta         0.00      0.0       6.90       6.90             0   \n9   ginger ale         0.00      0.0       9.86       9.86             0   \n12    red bull         0.46      0.0      10.20      10.20            29   \n\n    calcium_val  iron_val  sodium_val  cholesterol_val  \n0             0      0.00          13                0  \n3             0      0.00          12                0  \n6             0      0.00           0                0  \n9             0      0.00          10                0  \n12            6      0.06          39                0  ",
      "text/html": "<div>\n<style scoped>\n    .dataframe tbody tr th:only-of-type {\n        vertical-align: middle;\n    }\n\n    .dataframe tbody tr th {\n        vertical-align: top;\n    }\n\n    .dataframe thead th {\n        text-align: right;\n    }\n</style>\n<table border=\"1\" class=\"dataframe\">\n  <thead>\n    <tr style=\"text-align: right;\">\n      <th></th>\n      <th>food_name</th>\n      <th>protein_val</th>\n      <th>fat_val</th>\n      <th>carbs_val</th>\n      <th>sugar_val</th>\n      <th>caffeine_val</th>\n      <th>calcium_val</th>\n      <th>iron_val</th>\n      <th>sodium_val</th>\n      <th>cholesterol_val</th>\n    </tr>\n  </thead>\n  <tbody>\n    <tr>\n      <th>0</th>\n      <td>coke</td>\n      <td>0.00</td>\n      <td>0.0</td>\n      <td>11.00</td>\n      <td>11.00</td>\n      <td>0</td>\n      <td>0</td>\n      <td>0.00</td>\n      <td>13</td>\n      <td>0</td>\n    </tr>\n    <tr>\n      <th>3</th>\n      <td>diet coke</td>\n      <td>0.00</td>\n      <td>0.0</td>\n      <td>0.00</td>\n      <td>0.00</td>\n      <td>0</td>\n      <td>0</td>\n      <td>0.00</td>\n      <td>12</td>\n      <td>0</td>\n    </tr>\n    <tr>\n      <th>6</th>\n      <td>fanta</td>\n      <td>0.00</td>\n      <td>0.0</td>\n      <td>6.90</td>\n      <td>6.90</td>\n      <td>0</td>\n      <td>0</td>\n      <td>0.00</td>\n      <td>0</td>\n      <td>0</td>\n    </tr>\n    <tr>\n      <th>9</th>\n      <td>ginger ale</td>\n      <td>0.00</td>\n      <td>0.0</td>\n      <td>9.86</td>\n      <td>9.86</td>\n      <td>0</td>\n      <td>0</td>\n      <td>0.00</td>\n      <td>10</td>\n      <td>0</td>\n    </tr>\n    <tr>\n      <th>12</th>\n      <td>red bull</td>\n      <td>0.46</td>\n      <td>0.0</td>\n      <td>10.20</td>\n      <td>10.20</td>\n      <td>29</td>\n      <td>6</td>\n      <td>0.06</td>\n      <td>39</td>\n      <td>0</td>\n    </tr>\n  </tbody>\n</table>\n</div>"
     },
     "execution_count": 4,
     "metadata": {},
     "output_type": "execute_result"
    }
   ],
   "source": [
    "df = df.drop_duplicates(subset=['food_name'], keep='first')\n",
    "df.head()"
   ],
   "metadata": {
    "collapsed": false,
    "pycharm": {
     "name": "#%%\n"
    }
   }
  },
  {
   "cell_type": "code",
   "execution_count": 5,
   "outputs": [],
   "source": [
    "df.to_csv(\"../data/clean_data.csv\")"
   ],
   "metadata": {
    "collapsed": false,
    "pycharm": {
     "name": "#%%\n"
    }
   }
  },
  {
   "cell_type": "code",
   "execution_count": null,
   "outputs": [],
   "source": [
    "df = pd.DataFrame(\n",
    "    {\"username\": [], 'protein_val': [], \"fat_val\": [], 'carbs_val': [], 'sugar_val': [], 'caffeine_val': [],\n",
    "     'calcium_val': [], 'iron_val': [], 'sodium_val': [], 'cholesterol_val': []})\n",
    "df.to_csv(\"../data/users.csv\")\n",
    "df.head()"
   ],
   "metadata": {
    "collapsed": false,
    "pycharm": {
     "name": "#%%\n"
    }
   }
  }
 ],
 "metadata": {
  "kernelspec": {
   "display_name": "Python 3",
   "language": "python",
   "name": "python3"
  },
  "language_info": {
   "codemirror_mode": {
    "name": "ipython",
    "version": 2
   },
   "file_extension": ".py",
   "mimetype": "text/x-python",
   "name": "python",
   "nbconvert_exporter": "python",
   "pygments_lexer": "ipython2",
   "version": "2.7.6"
  }
 },
 "nbformat": 4,
 "nbformat_minor": 0
}